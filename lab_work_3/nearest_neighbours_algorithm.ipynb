{
 "cells": [
  {
   "cell_type": "code",
   "execution_count": 1,
   "id": "initial_id",
   "metadata": {
    "collapsed": true,
    "ExecuteTime": {
     "end_time": "2023-12-03T12:40:34.844765900Z",
     "start_time": "2023-12-03T12:40:34.772634700Z"
    }
   },
   "outputs": [],
   "source": [
    "import numpy as np"
   ]
  },
  {
   "cell_type": "code",
   "execution_count": 2,
   "outputs": [],
   "source": [
    "class SelfmadeKNearestNeighbors:\n",
    "    \"\"\"\n",
    "    Простая реализация алгоритма k-ближайших соседей.\n",
    "\n",
    "    Parameters:\n",
    "        k (int): Количество соседей для учета при предсказании.\n",
    "\n",
    "    Attributes:\n",
    "        k (int): Количество соседей.\n",
    "        X_train (numpy.ndarray): Обучающие данные.\n",
    "        y_train (numpy.ndarray): Метки классов для обучающих данных.\n",
    "    \"\"\"\n",
    "\n",
    "    def __init__(self, k=5):\n",
    "        \"\"\"\n",
    "        Инициализация объекта SelfmadeKNearestNeighbors.\n",
    "\n",
    "        Parameters:\n",
    "            k (int, optional): Количество соседей для учета при предсказании.\n",
    "                               По умолчанию установлено значение 5.\n",
    "        \"\"\"\n",
    "        self.k = k\n",
    "\n",
    "    def fit(self, X_train, y_train):\n",
    "        \"\"\"\n",
    "        Обучение модели на обучающих данных.\n",
    "\n",
    "        Parameters:\n",
    "            X_train (list or numpy.ndarray): Обучающие данные.\n",
    "            y_train (list or numpy.ndarray): Метки классов для обучающих данных.\n",
    "\n",
    "        Returns:\n",
    "            None\n",
    "        \"\"\"\n",
    "        self.X_train = np.array(X_train)\n",
    "        self.y_train = np.array(y_train)\n",
    "\n",
    "    def predict(self, X_test):\n",
    "        \"\"\"\n",
    "        Предсказание меток классов для тестовых данных.\n",
    "\n",
    "        Parameters:\n",
    "            X_test (list or numpy.ndarray): Тестовые данные.\n",
    "\n",
    "        Returns:\n",
    "            numpy.ndarray: Предсказанные метки классов для тестовых данных.\n",
    "        \"\"\"\n",
    "        X_test = np.array(X_test)\n",
    "\n",
    "        predictions = []\n",
    "        for x in X_test:\n",
    "            distances = np.sum((self.X_train - x) ** 2, axis=1)\n",
    "            nearest_neighbors_indices = np.argpartition(distances, self.k)[:self.k]\n",
    "            k_nearest_labels = self.y_train[nearest_neighbors_indices]\n",
    "\n",
    "            unique_labels, counts = np.unique(k_nearest_labels, return_counts=True)\n",
    "            predicted_label = unique_labels[np.argmax(counts)]\n",
    "            predictions.append(predicted_label)\n",
    "\n",
    "        return np.array(predictions)"
   ],
   "metadata": {
    "collapsed": false,
    "ExecuteTime": {
     "end_time": "2023-12-03T12:40:34.859285500Z",
     "start_time": "2023-12-03T12:40:34.846766300Z"
    }
   },
   "id": "cf8b64805d150ca8"
  },
  {
   "cell_type": "code",
   "execution_count": 3,
   "outputs": [],
   "source": [
    "def load_data(file_path):\n",
    "    \"\"\"\n",
    "    Загрузка данных из файла.\n",
    "\n",
    "    Parameters:\n",
    "        file_path (str): Путь к файлу с данными.\n",
    "\n",
    "    Returns:\n",
    "        tuple: Кортеж с данными (train_features, train_labels, test_features, test_labels).\n",
    "    \"\"\"\n",
    "    with open(file_path, 'r') as file:\n",
    "        lines = file.readlines()\n",
    "    header = lines[0].strip().split(',')\n",
    "    data_lines = [line.strip().split(',') for line in lines[1:]]\n",
    "    train_features = [list(map(float, line[:-2])) for line in data_lines if line[-1] == 'train']\n",
    "    train_labels = [int(line[-2]) for line in data_lines if line[-1] == 'train']\n",
    "    test_features = [list(map(float, line[:-2])) for line in data_lines if line[-1] == 'test']\n",
    "    test_labels = [-1] * len(test_features)\n",
    "    return (\n",
    "        np.array(train_features),\n",
    "        np.array(train_labels),\n",
    "        np.array(test_features),\n",
    "        np.array(test_labels)\n",
    "    )"
   ],
   "metadata": {
    "collapsed": false,
    "ExecuteTime": {
     "end_time": "2023-12-03T12:40:34.878232200Z",
     "start_time": "2023-12-03T12:40:34.861286200Z"
    }
   },
   "id": "674d2b7ebd6e2270"
  },
  {
   "cell_type": "code",
   "execution_count": 4,
   "outputs": [],
   "source": [
    "def save_predictions(predictions, file_path):\n",
    "    \"\"\"\n",
    "    Сохранение предсказаний в файл.\n",
    "\n",
    "    Parameters:\n",
    "        predictions (list): Список предсказанных меток.\n",
    "        file_path (str): Путь к файлу для сохранения.\n",
    "\n",
    "    Returns:\n",
    "        None\n",
    "    \"\"\"\n",
    "    np.savetxt(file_path, predictions, fmt='%d', delimiter='\\n')"
   ],
   "metadata": {
    "collapsed": false,
    "ExecuteTime": {
     "end_time": "2023-12-03T12:40:34.889745800Z",
     "start_time": "2023-12-03T12:40:34.874786200Z"
    }
   },
   "id": "83366eddf87dc498"
  },
  {
   "cell_type": "code",
   "execution_count": 5,
   "outputs": [],
   "source": [
    "# Загрузка данных\n",
    "train_features, train_labels, test_features, _ = load_data('input.txt')"
   ],
   "metadata": {
    "collapsed": false,
    "ExecuteTime": {
     "end_time": "2023-12-03T12:40:35.155696900Z",
     "start_time": "2023-12-03T12:40:34.890746400Z"
    }
   },
   "id": "b03d10d03bbdce08"
  },
  {
   "cell_type": "code",
   "execution_count": 6,
   "outputs": [],
   "source": [
    "# Создание и обучение модели\n",
    "knn = SelfmadeKNearestNeighbors(k=5)\n",
    "knn.fit(train_features, train_labels)"
   ],
   "metadata": {
    "collapsed": false,
    "ExecuteTime": {
     "end_time": "2023-12-03T12:40:35.172630200Z",
     "start_time": "2023-12-03T12:40:35.157697500Z"
    }
   },
   "id": "aa0e1e787cb10e29"
  },
  {
   "cell_type": "code",
   "execution_count": 7,
   "outputs": [],
   "source": [
    "# Предсказание меток для тестовых данных\n",
    "test_predictions = knn.predict(test_features)"
   ],
   "metadata": {
    "collapsed": false,
    "ExecuteTime": {
     "end_time": "2023-12-03T12:40:49.320802600Z",
     "start_time": "2023-12-03T12:40:35.172630200Z"
    }
   },
   "id": "ef879e36297a2f15"
  },
  {
   "cell_type": "code",
   "execution_count": 8,
   "outputs": [],
   "source": [
    "# Сохранение предсказаний в файл\n",
    "save_predictions(test_predictions, 'output.txt')"
   ],
   "metadata": {
    "collapsed": false,
    "ExecuteTime": {
     "end_time": "2023-12-03T12:40:49.336482900Z",
     "start_time": "2023-12-03T12:40:49.322307100Z"
    }
   },
   "id": "c3a52b9b8bf6e468"
  }
 ],
 "metadata": {
  "kernelspec": {
   "display_name": "Python 3",
   "language": "python",
   "name": "python3"
  },
  "language_info": {
   "codemirror_mode": {
    "name": "ipython",
    "version": 2
   },
   "file_extension": ".py",
   "mimetype": "text/x-python",
   "name": "python",
   "nbconvert_exporter": "python",
   "pygments_lexer": "ipython2",
   "version": "2.7.6"
  }
 },
 "nbformat": 4,
 "nbformat_minor": 5
}
