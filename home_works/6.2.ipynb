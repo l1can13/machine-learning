{
 "cells": [
  {
   "cell_type": "code",
   "execution_count": 37,
   "id": "initial_id",
   "metadata": {
    "collapsed": true,
    "ExecuteTime": {
     "end_time": "2023-12-03T12:34:49.392544500Z",
     "start_time": "2023-12-03T12:34:49.377535400Z"
    }
   },
   "outputs": [],
   "source": [
    "import numpy as np\n",
    "from sklearn.datasets import load_iris\n",
    "from sklearn.model_selection import train_test_split\n",
    "from sklearn.preprocessing import OneHotEncoder\n",
    "from tensorflow.keras.models import Sequential\n",
    "from tensorflow.keras.layers import Dense\n",
    "from tensorflow.keras.callbacks import EarlyStopping"
   ]
  },
  {
   "cell_type": "code",
   "execution_count": 38,
   "outputs": [],
   "source": [
    "# Загрузка и предобработка данных\n",
    "iris = load_iris()\n",
    "X = iris.data\n",
    "y = iris.target"
   ],
   "metadata": {
    "collapsed": false,
    "ExecuteTime": {
     "end_time": "2023-12-03T12:34:49.454142Z",
     "start_time": "2023-12-03T12:34:49.392040600Z"
    }
   },
   "id": "2f4bdb28a669221a"
  },
  {
   "cell_type": "code",
   "execution_count": 39,
   "outputs": [],
   "source": [
    "# Кодирование меток классов\n",
    "encoder = OneHotEncoder(sparse=False)\n",
    "y = encoder.fit_transform(y.reshape(-1, 1))"
   ],
   "metadata": {
    "collapsed": false,
    "ExecuteTime": {
     "end_time": "2023-12-03T12:34:49.531351300Z",
     "start_time": "2023-12-03T12:34:49.454142Z"
    }
   },
   "id": "e46a9563f69d0ca6"
  },
  {
   "cell_type": "code",
   "execution_count": 40,
   "outputs": [],
   "source": [
    "# Разделение данных на обучающую и тестовую выборки\n",
    "X_train, X_test, y_train, y_test = train_test_split(X, y, test_size=0.2, random_state=42)"
   ],
   "metadata": {
    "collapsed": false,
    "ExecuteTime": {
     "end_time": "2023-12-03T12:34:49.594509100Z",
     "start_time": "2023-12-03T12:34:49.532351400Z"
    }
   },
   "id": "1f0f24d4a1d8f62"
  },
  {
   "cell_type": "code",
   "execution_count": 41,
   "outputs": [],
   "source": [
    "# Функция для создания и обучения модели\n",
    "def create_and_train_model(hidden_neurons):\n",
    "    model = Sequential([\n",
    "        Dense(hidden_neurons, input_shape=(4,), activation='relu'),\n",
    "        Dense(y.shape[1], activation='softmax')\n",
    "    ])\n",
    "\n",
    "    model.compile(optimizer='adam', loss='categorical_crossentropy', metrics=['accuracy'])\n",
    "    early_stopping = EarlyStopping(monitor='val_loss', patience=50, restore_best_weights=True)\n",
    "    model.fit(X_train, y_train, epochs=500, validation_split=0.2, callbacks=[early_stopping], verbose=0)\n",
    "\n",
    "    return model"
   ],
   "metadata": {
    "collapsed": false,
    "ExecuteTime": {
     "end_time": "2023-12-03T12:34:49.673026100Z",
     "start_time": "2023-12-03T12:34:49.594509100Z"
    }
   },
   "id": "2d965ecec73b6a00"
  },
  {
   "cell_type": "code",
   "execution_count": 42,
   "outputs": [],
   "source": [
    "# Поиск минимального количества нейронов для достижения accuracy = 1\n",
    "min_neurons = 1\n",
    "max_accuracy = 0"
   ],
   "metadata": {
    "collapsed": false,
    "ExecuteTime": {
     "end_time": "2023-12-03T12:34:49.733119700Z",
     "start_time": "2023-12-03T12:34:49.673026100Z"
    }
   },
   "id": "67e337d15953393f"
  },
  {
   "cell_type": "code",
   "execution_count": 43,
   "outputs": [],
   "source": [
    "while not np.isclose(max_accuracy, 1.0, atol=1e-7):\n",
    "    model = create_and_train_model(min_neurons)\n",
    "    _, accuracy = model.evaluate(X_test, y_test, verbose=0)\n",
    "\n",
    "    # Обновление max_accuracy, если она близка к 1.0\n",
    "    if np.isclose(accuracy, 1.0, atol=1e-7):\n",
    "        max_accuracy = accuracy\n",
    "    else:\n",
    "        max_accuracy = max(max_accuracy, accuracy)\n",
    "        min_neurons += 1"
   ],
   "metadata": {
    "collapsed": false,
    "ExecuteTime": {
     "end_time": "2023-12-03T12:35:11.817979Z",
     "start_time": "2023-12-03T12:34:49.733119700Z"
    }
   },
   "id": "41865bcf0608562d"
  },
  {
   "cell_type": "code",
   "execution_count": 44,
   "outputs": [
    {
     "name": "stdout",
     "output_type": "stream",
     "text": [
      "Количество нейронов: 2\n",
      "Точность: 1.0\n"
     ]
    }
   ],
   "source": [
    "print(f'Количество нейронов: {min_neurons}\\n'\n",
    "      f'Точность: {max_accuracy}')"
   ],
   "metadata": {
    "collapsed": false,
    "ExecuteTime": {
     "end_time": "2023-12-03T12:35:11.832997600Z",
     "start_time": "2023-12-03T12:35:11.817979Z"
    }
   },
   "id": "b0fd1ea11c230f64"
  },
  {
   "cell_type": "code",
   "execution_count": 45,
   "outputs": [
    {
     "name": "stdout",
     "output_type": "stream",
     "text": [
      "Model: \"sequential_18\"\n",
      "_________________________________________________________________\n",
      " Layer (type)                Output Shape              Param #   \n",
      "=================================================================\n",
      " dense_36 (Dense)            (None, 2)                 10        \n",
      "                                                                 \n",
      " dense_37 (Dense)            (None, 3)                 9         \n",
      "                                                                 \n",
      "=================================================================\n",
      "Total params: 19 (76.00 Byte)\n",
      "Trainable params: 19 (76.00 Byte)\n",
      "Non-trainable params: 0 (0.00 Byte)\n",
      "_________________________________________________________________\n"
     ]
    }
   ],
   "source": [
    "# Вывод описания модели\n",
    "model.summary()"
   ],
   "metadata": {
    "collapsed": false,
    "ExecuteTime": {
     "end_time": "2023-12-03T12:35:11.879029100Z",
     "start_time": "2023-12-03T12:35:11.833995500Z"
    }
   },
   "id": "29ed51d74e2538a"
  }
 ],
 "metadata": {
  "kernelspec": {
   "display_name": "Python 3",
   "language": "python",
   "name": "python3"
  },
  "language_info": {
   "codemirror_mode": {
    "name": "ipython",
    "version": 2
   },
   "file_extension": ".py",
   "mimetype": "text/x-python",
   "name": "python",
   "nbconvert_exporter": "python",
   "pygments_lexer": "ipython2",
   "version": "2.7.6"
  }
 },
 "nbformat": 4,
 "nbformat_minor": 5
}
