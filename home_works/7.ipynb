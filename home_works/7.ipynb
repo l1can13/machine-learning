{
 "cells": [
  {
   "cell_type": "code",
   "execution_count": 1,
   "id": "initial_id",
   "metadata": {
    "collapsed": true,
    "ExecuteTime": {
     "end_time": "2023-12-08T08:55:55.163031Z",
     "start_time": "2023-12-08T08:55:53.894297200Z"
    }
   },
   "outputs": [],
   "source": [
    "from sklearn import datasets\n",
    "from sklearn.preprocessing import StandardScaler\n",
    "from sklearn.decomposition import PCA\n",
    "from sklearn.mixture import GaussianMixture\n",
    "from sklearn.metrics import homogeneity_score, completeness_score\n",
    "import numpy as np"
   ]
  },
  {
   "cell_type": "code",
   "execution_count": 2,
   "outputs": [],
   "source": [
    "# Загрузка датасета IRIS\n",
    "iris = datasets.load_iris()\n",
    "X = iris.data  # Исключение информации о классах\n",
    "y = iris.target  # Истинные классы для сравнения"
   ],
   "metadata": {
    "collapsed": false,
    "ExecuteTime": {
     "end_time": "2023-12-08T08:55:55.240481200Z",
     "start_time": "2023-12-08T08:55:55.165473900Z"
    }
   },
   "id": "f10db2c9c0b80c7d"
  },
  {
   "cell_type": "code",
   "execution_count": 3,
   "outputs": [],
   "source": [
    "# Нормировка данных\n",
    "scaler = StandardScaler()\n",
    "X_scaled = scaler.fit_transform(X)"
   ],
   "metadata": {
    "collapsed": false,
    "ExecuteTime": {
     "end_time": "2023-12-08T08:55:55.257051400Z",
     "start_time": "2023-12-08T08:55:55.241540300Z"
    }
   },
   "id": "822143226e247316"
  },
  {
   "cell_type": "code",
   "execution_count": 4,
   "outputs": [],
   "source": [
    "# Определение оптимального числа компонент для PCA\n",
    "n_components = range(1, X.shape[1] + 1)\n",
    "best_homogeneity = 0\n",
    "best_completeness = 0\n",
    "best_n_components = 0"
   ],
   "metadata": {
    "collapsed": false,
    "ExecuteTime": {
     "end_time": "2023-12-08T08:55:55.275078Z",
     "start_time": "2023-12-08T08:55:55.257051400Z"
    }
   },
   "id": "dca77ea3cd47d4e6"
  },
  {
   "cell_type": "code",
   "execution_count": 5,
   "outputs": [],
   "source": [
    "for n in n_components:\n",
    "    # Анализ главных компонент\n",
    "    pca = PCA(n_components=n)\n",
    "    X_pca = pca.fit_transform(X_scaled)\n",
    "\n",
    "    # Кластеризация с использованием Gaussian Mixture (EM)\n",
    "    gmm = GaussianMixture(n_components=len(np.unique(y)))\n",
    "    gmm.fit(X_pca)\n",
    "    y_pred = gmm.predict(X_pca)\n",
    "\n",
    "    # Оценка качества кластеризации\n",
    "    homogeneity = homogeneity_score(y, y_pred)\n",
    "    completeness = completeness_score(y, y_pred)\n",
    "\n",
    "    # Выбор лучшего результата\n",
    "    if homogeneity + completeness > best_homogeneity + best_completeness:\n",
    "        best_homogeneity = homogeneity\n",
    "        best_completeness = completeness\n",
    "        best_n_components = n"
   ],
   "metadata": {
    "collapsed": false,
    "ExecuteTime": {
     "end_time": "2023-12-08T08:55:55.383681800Z",
     "start_time": "2023-12-08T08:55:55.274077300Z"
    }
   },
   "id": "7bab2cb782fcd467"
  },
  {
   "cell_type": "code",
   "execution_count": 6,
   "outputs": [
    {
     "data": {
      "text/plain": "(0.8983263672602775, 0.9010648908640206, 4)"
     },
     "execution_count": 6,
     "metadata": {},
     "output_type": "execute_result"
    }
   ],
   "source": [
    "best_homogeneity, best_completeness, best_n_components"
   ],
   "metadata": {
    "collapsed": false,
    "ExecuteTime": {
     "end_time": "2023-12-08T08:55:55.403199Z",
     "start_time": "2023-12-08T08:55:55.384681600Z"
    }
   },
   "id": "901f51907754a29b"
  }
 ],
 "metadata": {
  "kernelspec": {
   "display_name": "Python 3",
   "language": "python",
   "name": "python3"
  },
  "language_info": {
   "codemirror_mode": {
    "name": "ipython",
    "version": 2
   },
   "file_extension": ".py",
   "mimetype": "text/x-python",
   "name": "python",
   "nbconvert_exporter": "python",
   "pygments_lexer": "ipython2",
   "version": "2.7.6"
  }
 },
 "nbformat": 4,
 "nbformat_minor": 5
}
