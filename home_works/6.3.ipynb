{
 "cells": [
  {
   "cell_type": "code",
   "execution_count": 9,
   "id": "initial_id",
   "metadata": {
    "collapsed": true,
    "ExecuteTime": {
     "end_time": "2023-12-08T07:50:11.311803100Z",
     "start_time": "2023-12-08T07:50:11.308269900Z"
    }
   },
   "outputs": [],
   "source": [
    "from tensorflow.keras.datasets import cifar10\n",
    "from tensorflow.keras.models import load_model\n",
    "import numpy as np"
   ]
  },
  {
   "cell_type": "code",
   "execution_count": 10,
   "outputs": [],
   "source": [
    "# Загрузка датасета CIFAR-10\n",
    "(x_train, y_train), (x_test, y_test) = cifar10.load_data()"
   ],
   "metadata": {
    "collapsed": false,
    "ExecuteTime": {
     "end_time": "2023-12-08T07:50:11.640386500Z",
     "start_time": "2023-12-08T07:50:11.311803100Z"
    }
   },
   "id": "a96570f7891b6230"
  },
  {
   "cell_type": "code",
   "execution_count": 11,
   "outputs": [],
   "source": [
    "# Нормализация данных\n",
    "x_test = x_test.astype('float32') / 255"
   ],
   "metadata": {
    "collapsed": false,
    "ExecuteTime": {
     "end_time": "2023-12-08T07:50:11.716640900Z",
     "start_time": "2023-12-08T07:50:11.641440Z"
    }
   },
   "id": "5665a47804eaec37"
  },
  {
   "cell_type": "code",
   "execution_count": 12,
   "outputs": [],
   "source": [
    "# Загрузка модели\n",
    "model = load_model('model100.h5')  # Убедитесь, что путь к файлу модели правильный"
   ],
   "metadata": {
    "collapsed": false,
    "ExecuteTime": {
     "end_time": "2023-12-08T07:50:12.085687600Z",
     "start_time": "2023-12-08T07:50:11.716640900Z"
    }
   },
   "id": "52b70556e32047db"
  },
  {
   "cell_type": "code",
   "execution_count": 13,
   "outputs": [
    {
     "name": "stdout",
     "output_type": "stream",
     "text": [
      "313/313 [==============================] - 2s 8ms/step\n"
     ]
    }
   ],
   "source": [
    "# Предсказание классов для тестового набора\n",
    "predictions = model.predict(x_test)\n",
    "predicted_classes = np.argmax(predictions, axis=1)"
   ],
   "metadata": {
    "collapsed": false,
    "ExecuteTime": {
     "end_time": "2023-12-08T07:50:14.718283500Z",
     "start_time": "2023-12-08T07:50:12.073633600Z"
    }
   },
   "id": "ad8c5ae8a1f05c5c"
  },
  {
   "cell_type": "code",
   "execution_count": 14,
   "outputs": [],
   "source": [
    "# Истинные классы для тестового набора\n",
    "true_classes = y_test.reshape(-1)"
   ],
   "metadata": {
    "collapsed": false,
    "ExecuteTime": {
     "end_time": "2023-12-08T07:50:14.733308600Z",
     "start_time": "2023-12-08T07:50:14.718792700Z"
    }
   },
   "id": "2a00949631e80550"
  },
  {
   "cell_type": "code",
   "execution_count": 15,
   "outputs": [],
   "source": [
    "# Определение неверных предсказаний для класса \"frog\" (класс номер 6 в CIFAR-10)\n",
    "frog_indices = np.where(true_classes == 6)[0]  # индексы лягушек в тестовом наборе\n",
    "incorrect_frog_indices = frog_indices[predicted_classes[frog_indices] != 6]"
   ],
   "metadata": {
    "collapsed": false,
    "ExecuteTime": {
     "end_time": "2023-12-08T07:50:14.751379200Z",
     "start_time": "2023-12-08T07:50:14.734309500Z"
    }
   },
   "id": "8f57a5821959fd6"
  },
  {
   "cell_type": "code",
   "execution_count": 16,
   "outputs": [
    {
     "name": "stdout",
     "output_type": "stream",
     "text": [
      "Индексы изображений 'frog', на которых модель ошиблась: [   7   49   59  112  162  186  221  309  459  570  672  685  893 1012\n",
      " 1034 1035 1147 1178 1309 1394 1403 1572 1580 1838 1935 1939 1989 2251\n",
      " 2267 2299 2309 2447 2455 2499 2508 2530 2599 2849 3014 3075 3160 3214\n",
      " 3325 3349 3373 3400 3446 3615 3662 3693 3785 3933 4016 4044 4066 4301\n",
      " 4304 4329 4423 4477 4482 4669 4744 4894 4943 5072 5106 5203 5388 5446\n",
      " 5487 5581 5600 5607 5850 5883 5927 5961 6443 6523 6558 6598 6656 6803\n",
      " 6856 7152 7181 7183 7213 7445 7471 7711 7907 7983 8020 8119 8306 8314\n",
      " 8425 8524 8545 8573 8634 8691 8721 8728 8804 8923 8932 8940 9092 9216\n",
      " 9294 9359 9501 9641 9705 9727 9786 9801 9877]\n"
     ]
    }
   ],
   "source": [
    "print(\"Индексы изображений 'frog', на которых модель ошиблась:\", incorrect_frog_indices)"
   ],
   "metadata": {
    "collapsed": false,
    "ExecuteTime": {
     "end_time": "2023-12-08T07:50:14.764699900Z",
     "start_time": "2023-12-08T07:50:14.750378800Z"
    }
   },
   "id": "8f0b3872672fe057"
  }
 ],
 "metadata": {
  "kernelspec": {
   "display_name": "Python 3",
   "language": "python",
   "name": "python3"
  },
  "language_info": {
   "codemirror_mode": {
    "name": "ipython",
    "version": 2
   },
   "file_extension": ".py",
   "mimetype": "text/x-python",
   "name": "python",
   "nbconvert_exporter": "python",
   "pygments_lexer": "ipython2",
   "version": "2.7.6"
  }
 },
 "nbformat": 4,
 "nbformat_minor": 5
}
